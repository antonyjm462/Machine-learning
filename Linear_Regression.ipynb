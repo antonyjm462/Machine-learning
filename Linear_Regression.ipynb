{
  "nbformat": 4,
  "nbformat_minor": 0,
  "metadata": {
    "colab": {
      "name": "Linear Regression.ipynb",
      "provenance": [],
      "collapsed_sections": [],
      "include_colab_link": true
    },
    "kernelspec": {
      "name": "python3",
      "display_name": "Python 3"
    }
  },
  "cells": [
    {
      "cell_type": "markdown",
      "metadata": {
        "id": "view-in-github",
        "colab_type": "text"
      },
      "source": [
        "<a href=\"https://colab.research.google.com/github/antonyjm462/Machine-learning/blob/master/Linear_Regression.ipynb\" target=\"_parent\"><img src=\"https://colab.research.google.com/assets/colab-badge.svg\" alt=\"Open In Colab\"/></a>"
      ]
    },
    {
      "cell_type": "markdown",
      "metadata": {
        "id": "dWc6h3J-1XIV",
        "colab_type": "text"
      },
      "source": [
        "#Linear Regression\n",
        "\n",
        "Here, we are using the [Linear Regression from Scikit Learn](https://scikit-learn.org/stable/modules/generated/sklearn.linear_model.LinearRegression.html)"
      ]
    },
    {
      "cell_type": "markdown",
      "metadata": {
        "id": "PHjlXSdwZuBc",
        "colab_type": "text"
      },
      "source": [
        "### Importing necessary modules"
      ]
    },
    {
      "cell_type": "code",
      "metadata": {
        "id": "55sDofWy1TK6",
        "colab_type": "code",
        "colab": {}
      },
      "source": [
        "# Import Library\n",
        "# Import other necessary libraries like pandas, numpy...\n",
        "from sklearn import linear_model\n",
        "import pandas as pd\n",
        "import numpy as np\n",
        "import matplotlib.pyplot as plt\n",
        "%matplotlib inline"
      ],
      "execution_count": 0,
      "outputs": []
    },
    {
      "cell_type": "markdown",
      "metadata": {
        "id": "JBjef8nHZ2C2",
        "colab_type": "text"
      },
      "source": [
        "### Loading Dataset"
      ]
    },
    {
      "cell_type": "code",
      "metadata": {
        "id": "5CJ8BeRNJQst",
        "colab_type": "code",
        "outputId": "7fe802f5-2d14-4f02-852e-530e8aa27ee0",
        "colab": {
          "base_uri": "https://localhost:8080/",
          "height": 204
        }
      },
      "source": [
        "# Download Dataset\n",
        "!wget \"https://raw.githubusercontent.com/keralaai/workshops/master/TensorFlow%20study%20jam/regression.csv\""
      ],
      "execution_count": 0,
      "outputs": [
        {
          "output_type": "stream",
          "text": [
            "--2020-01-24 16:02:49--  https://raw.githubusercontent.com/keralaai/workshops/master/TensorFlow%20study%20jam/regression.csv\n",
            "Resolving raw.githubusercontent.com (raw.githubusercontent.com)... 151.101.0.133, 151.101.64.133, 151.101.128.133, ...\n",
            "Connecting to raw.githubusercontent.com (raw.githubusercontent.com)|151.101.0.133|:443... connected.\n",
            "HTTP request sent, awaiting response... 200 OK\n",
            "Length: 508 [text/plain]\n",
            "Saving to: ‘regression.csv’\n",
            "\n",
            "regression.csv      100%[===================>]     508  --.-KB/s    in 0s      \n",
            "\n",
            "2020-01-24 16:02:54 (104 MB/s) - ‘regression.csv’ saved [508/508]\n",
            "\n"
          ],
          "name": "stdout"
        }
      ]
    },
    {
      "cell_type": "code",
      "metadata": {
        "id": "yGUF_KWCORUg",
        "colab_type": "code",
        "outputId": "9e6e86a2-83fe-4347-dbb1-4e793a49c40c",
        "colab": {
          "base_uri": "https://localhost:8080/",
          "height": 204
        }
      },
      "source": [
        "train_dataset = pd.read_csv(\"regression.csv\")\n",
        "train_dataset.head()"
      ],
      "execution_count": 0,
      "outputs": [
        {
          "output_type": "execute_result",
          "data": {
            "text/html": [
              "<div>\n",
              "<style scoped>\n",
              "    .dataframe tbody tr th:only-of-type {\n",
              "        vertical-align: middle;\n",
              "    }\n",
              "\n",
              "    .dataframe tbody tr th {\n",
              "        vertical-align: top;\n",
              "    }\n",
              "\n",
              "    .dataframe thead th {\n",
              "        text-align: right;\n",
              "    }\n",
              "</style>\n",
              "<table border=\"1\" class=\"dataframe\">\n",
              "  <thead>\n",
              "    <tr style=\"text-align: right;\">\n",
              "      <th></th>\n",
              "      <th>X</th>\n",
              "      <th>Y</th>\n",
              "    </tr>\n",
              "  </thead>\n",
              "  <tbody>\n",
              "    <tr>\n",
              "      <th>0</th>\n",
              "      <td>108</td>\n",
              "      <td>392.5</td>\n",
              "    </tr>\n",
              "    <tr>\n",
              "      <th>1</th>\n",
              "      <td>19</td>\n",
              "      <td>46.2</td>\n",
              "    </tr>\n",
              "    <tr>\n",
              "      <th>2</th>\n",
              "      <td>13</td>\n",
              "      <td>15.7</td>\n",
              "    </tr>\n",
              "    <tr>\n",
              "      <th>3</th>\n",
              "      <td>124</td>\n",
              "      <td>422.2</td>\n",
              "    </tr>\n",
              "    <tr>\n",
              "      <th>4</th>\n",
              "      <td>40</td>\n",
              "      <td>119.4</td>\n",
              "    </tr>\n",
              "  </tbody>\n",
              "</table>\n",
              "</div>"
            ],
            "text/plain": [
              "     X      Y\n",
              "0  108  392.5\n",
              "1   19   46.2\n",
              "2   13   15.7\n",
              "3  124  422.2\n",
              "4   40  119.4"
            ]
          },
          "metadata": {
            "tags": []
          },
          "execution_count": 3
        }
      ]
    },
    {
      "cell_type": "code",
      "metadata": {
        "id": "gL6cZGzT6HSX",
        "colab_type": "code",
        "colab": {}
      },
      "source": [
        "# Load Train and Test datasets\n",
        "# Identify feature and response variable(s) and values must be numeric and numpy arrays\n",
        "x_train = train_dataset[\"X\"]\n",
        "y_train = train_dataset[\"Y\"]\n",
        "x_train = x_train.values.reshape(-1, 1)\n",
        "y_train = y_train.values.reshape(-1, 1)\n"
      ],
      "execution_count": 0,
      "outputs": []
    },
    {
      "cell_type": "markdown",
      "metadata": {
        "id": "QMRiBgRIUycw",
        "colab_type": "text"
      },
      "source": [
        "###  Dataset Visualisation"
      ]
    },
    {
      "cell_type": "code",
      "metadata": {
        "id": "PIx_58LeU4_i",
        "colab_type": "code",
        "outputId": "3b1a4807-c4cb-4467-94eb-c49efa87d45b",
        "colab": {
          "base_uri": "https://localhost:8080/",
          "height": 282
        }
      },
      "source": [
        "plt.plot(x_train,y_train,'.')"
      ],
      "execution_count": 0,
      "outputs": [
        {
          "output_type": "execute_result",
          "data": {
            "text/plain": [
              "[<matplotlib.lines.Line2D at 0x7f35fe509c88>]"
            ]
          },
          "metadata": {
            "tags": []
          },
          "execution_count": 7
        },
        {
          "output_type": "display_data",
          "data": {
            "image/png": "[encoded data removed]",
            "text/plain": [
              "<Figure size 432x288 with 1 Axes>"
            ]
          },
          "metadata": {
            "tags": []
          }
        }
      ]
    },
    {
      "cell_type": "markdown",
      "metadata": {
        "id": "RreBC9-LV1Oo",
        "colab_type": "text"
      },
      "source": [
        "### Training the Model"
      ]
    },
    {
      "cell_type": "code",
      "metadata": {
        "id": "Oth5h_ye6LwB",
        "colab_type": "code",
        "colab": {}
      },
      "source": [
        "# Create linear regression object\n",
        "linear = linear_model.LinearRegression()\n"
      ],
      "execution_count": 0,
      "outputs": []
    },
    {
      "cell_type": "code",
      "metadata": {
        "id": "b7LSgr-F6OSy",
        "colab_type": "code",
        "outputId": "29660dad-57f5-48b8-8acf-c8d54b0a6b56",
        "colab": {
          "base_uri": "https://localhost:8080/",
          "height": 34
        }
      },
      "source": [
        "# Train the model using the training sets and check score\n",
        "linear.fit(x_train, y_train)\n",
        "linear.score(x_train, y_train)\n"
      ],
      "execution_count": 0,
      "outputs": [
        {
          "output_type": "execute_result",
          "data": {
            "text/plain": [
              "0.8333466719794502"
            ]
          },
          "metadata": {
            "tags": []
          },
          "execution_count": 9
        }
      ]
    },
    {
      "cell_type": "code",
      "metadata": {
        "id": "QIvNUiMt6RI4",
        "colab_type": "code",
        "outputId": "6c6941b8-1907-44b7-bf35-bdfb30cae3e5",
        "colab": {
          "base_uri": "https://localhost:8080/",
          "height": 85
        }
      },
      "source": [
        "#Equation coefficient and Intercept\n",
        "print('Coefficient: \\n', linear.coef_)\n",
        "print('Intercept: \\n', linear.intercept_)\n"
      ],
      "execution_count": 0,
      "outputs": [
        {
          "output_type": "stream",
          "text": [
            "Coefficient: \n",
            " [[3.41382356]]\n",
            "Intercept: \n",
            " [19.99448576]\n"
          ],
          "name": "stdout"
        }
      ]
    },
    {
      "cell_type": "markdown",
      "metadata": {
        "id": "UUeXm9m8V9Tp",
        "colab_type": "text"
      },
      "source": [
        "### Predicting"
      ]
    },
    {
      "cell_type": "code",
      "metadata": {
        "id": "f-xA5lYMT6Nu",
        "colab_type": "code",
        "colab": {}
      },
      "source": [
        "x_test = np.array([[100],[70],[90],[80],[50]])"
      ],
      "execution_count": 0,
      "outputs": []
    },
    {
      "cell_type": "code",
      "metadata": {
        "id": "V1yFVi-A6Txw",
        "colab_type": "code",
        "colab": {}
      },
      "source": [
        "#Predict Output\n",
        "predicted= linear.predict(x_test)"
      ],
      "execution_count": 0,
      "outputs": []
    },
    {
      "cell_type": "code",
      "metadata": {
        "id": "YByBdSCoUfGR",
        "colab_type": "code",
        "outputId": "bbee467e-ad1b-4470-f9b5-52a77fa1f382",
        "colab": {
          "base_uri": "https://localhost:8080/",
          "height": 102
        }
      },
      "source": [
        "predicted"
      ],
      "execution_count": 0,
      "outputs": [
        {
          "output_type": "execute_result",
          "data": {
            "text/plain": [
              "array([[361.37684177],\n",
              "       [258.96213496],\n",
              "       [327.23860617],\n",
              "       [293.10037056],\n",
              "       [190.68566376]])"
            ]
          },
          "metadata": {
            "tags": []
          },
          "execution_count": 13
        }
      ]
    },
    {
      "cell_type": "markdown",
      "metadata": {
        "id": "wd8z3Qz-XD-m",
        "colab_type": "text"
      },
      "source": [
        "### Plotting Prediction"
      ]
    },
    {
      "cell_type": "code",
      "metadata": {
        "id": "NXgr9-XYWBOf",
        "colab_type": "code",
        "outputId": "c62ba289-ab7e-445a-9173-5c2939b29f9d",
        "colab": {
          "base_uri": "https://localhost:8080/",
          "height": 282
        }
      },
      "source": [
        "plt.plot(x_train,y_train,'.')\n",
        "plt.plot(x_test, predicted,'*',color='red')"
      ],
      "execution_count": 0,
      "outputs": [
        {
          "output_type": "execute_result",
          "data": {
            "text/plain": [
              "[<matplotlib.lines.Line2D at 0x7f35fe02b358>]"
            ]
          },
          "metadata": {
            "tags": []
          },
          "execution_count": 17
        },
        {
          "output_type": "display_data",
          "data": {
            "image/png": "[encoded data removed]",
            "text/plain": [
              "<Figure size 432x288 with 1 Axes>"
            ]
          },
          "metadata": {
            "tags": []
          }
        }
      ]
    },
    {
      "cell_type": "code",
      "metadata": {
        "id": "5ds7vxmNSV2b",
        "colab_type": "code",
        "colab": {}
      },
      "source": [
        "lineset = [i for i in range(120)]\n",
        "lineset = np.asarray(lineset).reshape(-1,1)"
      ],
      "execution_count": 0,
      "outputs": []
    },
    {
      "cell_type": "code",
      "metadata": {
        "id": "xJrj9F4vW45f",
        "colab_type": "code",
        "outputId": "a00b60b3-ef22-440b-c4d8-ed939426d91d",
        "colab": {
          "base_uri": "https://localhost:8080/",
          "height": 282
        }
      },
      "source": [
        "plt.plot(x_train,y_train,'.')\n",
        "plt.plot(lineset, linear.predict(lineset),'-',color='red')"
      ],
      "execution_count": 0,
      "outputs": [
        {
          "output_type": "execute_result",
          "data": {
            "text/plain": [
              "[<matplotlib.lines.Line2D at 0x7f35fdec1128>]"
            ]
          },
          "metadata": {
            "tags": []
          },
          "execution_count": 19
        },
        {
          "output_type": "display_data",
          "data": {
            "image/png": "[encoded data removed]",
            "text/plain": [
              "<Figure size 432x288 with 1 Axes>"
            ]
          },
          "metadata": {
            "tags": []
          }
        }
      ]
    },
    {
      "cell_type": "markdown",
      "metadata": {
        "id": "Pmu54KfgXcJZ",
        "colab_type": "text"
      },
      "source": [
        "### The Linear Regressor model fits an optimal line, and Predictions are based on this line."
      ]
    },
    {
      "cell_type": "code",
      "metadata": {
        "id": "q25VKu3xTahc",
        "colab_type": "code",
        "colab": {}
      },
      "source": [
        ""
      ],
      "execution_count": 0,
      "outputs": []
    }
  ]
}